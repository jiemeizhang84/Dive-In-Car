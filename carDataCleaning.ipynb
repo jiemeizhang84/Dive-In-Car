{
 "cells": [
  {
   "cell_type": "code",
   "execution_count": 1,
   "metadata": {
    "collapsed": true
   },
   "outputs": [],
   "source": [
    "import pandas as pd\n",
    "import numpy as np"
   ]
  },
  {
   "cell_type": "code",
   "execution_count": 4,
   "metadata": {
    "collapsed": true
   },
   "outputs": [],
   "source": [
    "df = pd.read_csv(\"carRecords.csv\",index_col=0)"
   ]
  },
  {
   "cell_type": "code",
   "execution_count": 5,
   "metadata": {},
   "outputs": [
    {
     "data": {
      "text/html": [
       "<div>\n",
       "<style>\n",
       "    .dataframe thead tr:only-child th {\n",
       "        text-align: right;\n",
       "    }\n",
       "\n",
       "    .dataframe thead th {\n",
       "        text-align: left;\n",
       "    }\n",
       "\n",
       "    .dataframe tbody tr th {\n",
       "        vertical-align: top;\n",
       "    }\n",
       "</style>\n",
       "<table border=\"1\" class=\"dataframe\">\n",
       "  <thead>\n",
       "    <tr style=\"text-align: right;\">\n",
       "      <th></th>\n",
       "      <th>type</th>\n",
       "      <th>year</th>\n",
       "      <th>title</th>\n",
       "      <th>trim</th>\n",
       "      <th>price</th>\n",
       "      <th>mileage</th>\n",
       "    </tr>\n",
       "  </thead>\n",
       "  <tbody>\n",
       "    <tr>\n",
       "      <th>0</th>\n",
       "      <td>used</td>\n",
       "      <td>2017</td>\n",
       "      <td>Hyundai Accent</td>\n",
       "      <td>SE</td>\n",
       "      <td>13879.0</td>\n",
       "      <td>168</td>\n",
       "    </tr>\n",
       "    <tr>\n",
       "      <th>1</th>\n",
       "      <td>used</td>\n",
       "      <td>2015</td>\n",
       "      <td>Chevrolet Sonic</td>\n",
       "      <td>LTZ</td>\n",
       "      <td>8990.0</td>\n",
       "      <td>49000</td>\n",
       "    </tr>\n",
       "    <tr>\n",
       "      <th>2</th>\n",
       "      <td>used</td>\n",
       "      <td>2001</td>\n",
       "      <td>Mitsubishi Montero</td>\n",
       "      <td>Limited</td>\n",
       "      <td>7995.0</td>\n",
       "      <td>130752</td>\n",
       "    </tr>\n",
       "    <tr>\n",
       "      <th>3</th>\n",
       "      <td>used</td>\n",
       "      <td>2012</td>\n",
       "      <td>Scion xB</td>\n",
       "      <td>Base</td>\n",
       "      <td>11995.0</td>\n",
       "      <td>51947</td>\n",
       "    </tr>\n",
       "    <tr>\n",
       "      <th>4</th>\n",
       "      <td>used</td>\n",
       "      <td>2007</td>\n",
       "      <td>Rolls-Royce Phantom</td>\n",
       "      <td>Base</td>\n",
       "      <td>139999.0</td>\n",
       "      <td>14796</td>\n",
       "    </tr>\n",
       "  </tbody>\n",
       "</table>\n",
       "</div>"
      ],
      "text/plain": [
       "   type  year                 title      trim     price  mileage\n",
       "0  used  2017       Hyundai Accent        SE    13879.0      168\n",
       "1  used  2015      Chevrolet Sonic       LTZ     8990.0    49000\n",
       "2  used  2001   Mitsubishi Montero   Limited     7995.0   130752\n",
       "3  used  2012             Scion xB      Base    11995.0    51947\n",
       "4  used  2007  Rolls-Royce Phantom      Base   139999.0    14796"
      ]
     },
     "execution_count": 5,
     "metadata": {},
     "output_type": "execute_result"
    }
   ],
   "source": [
    "df.head()"
   ]
  },
  {
   "cell_type": "code",
   "execution_count": 6,
   "metadata": {
    "collapsed": true
   },
   "outputs": [],
   "source": [
    "df['make'], df['model'] = df['title'].str.split(' ', 1).str"
   ]
  },
  {
   "cell_type": "code",
   "execution_count": 9,
   "metadata": {},
   "outputs": [
    {
     "data": {
      "text/html": [
       "<div>\n",
       "<style>\n",
       "    .dataframe thead tr:only-child th {\n",
       "        text-align: right;\n",
       "    }\n",
       "\n",
       "    .dataframe thead th {\n",
       "        text-align: left;\n",
       "    }\n",
       "\n",
       "    .dataframe tbody tr th {\n",
       "        vertical-align: top;\n",
       "    }\n",
       "</style>\n",
       "<table border=\"1\" class=\"dataframe\">\n",
       "  <thead>\n",
       "    <tr style=\"text-align: right;\">\n",
       "      <th></th>\n",
       "      <th>type</th>\n",
       "      <th>year</th>\n",
       "      <th>title</th>\n",
       "      <th>trim</th>\n",
       "      <th>price</th>\n",
       "      <th>mileage</th>\n",
       "      <th>make</th>\n",
       "      <th>model</th>\n",
       "    </tr>\n",
       "  </thead>\n",
       "  <tbody>\n",
       "    <tr>\n",
       "      <th>0</th>\n",
       "      <td>used</td>\n",
       "      <td>2017</td>\n",
       "      <td>Hyundai Accent</td>\n",
       "      <td>SE</td>\n",
       "      <td>13879.0</td>\n",
       "      <td>168</td>\n",
       "      <td>Hyundai</td>\n",
       "      <td>Accent</td>\n",
       "    </tr>\n",
       "    <tr>\n",
       "      <th>1</th>\n",
       "      <td>used</td>\n",
       "      <td>2015</td>\n",
       "      <td>Chevrolet Sonic</td>\n",
       "      <td>LTZ</td>\n",
       "      <td>8990.0</td>\n",
       "      <td>49000</td>\n",
       "      <td>Chevrolet</td>\n",
       "      <td>Sonic</td>\n",
       "    </tr>\n",
       "    <tr>\n",
       "      <th>2</th>\n",
       "      <td>used</td>\n",
       "      <td>2001</td>\n",
       "      <td>Mitsubishi Montero</td>\n",
       "      <td>Limited</td>\n",
       "      <td>7995.0</td>\n",
       "      <td>130752</td>\n",
       "      <td>Mitsubishi</td>\n",
       "      <td>Montero</td>\n",
       "    </tr>\n",
       "    <tr>\n",
       "      <th>3</th>\n",
       "      <td>used</td>\n",
       "      <td>2012</td>\n",
       "      <td>Scion xB</td>\n",
       "      <td>Base</td>\n",
       "      <td>11995.0</td>\n",
       "      <td>51947</td>\n",
       "      <td>Scion</td>\n",
       "      <td>xB</td>\n",
       "    </tr>\n",
       "    <tr>\n",
       "      <th>4</th>\n",
       "      <td>used</td>\n",
       "      <td>2007</td>\n",
       "      <td>Rolls-Royce Phantom</td>\n",
       "      <td>Base</td>\n",
       "      <td>139999.0</td>\n",
       "      <td>14796</td>\n",
       "      <td>Rolls-Royce</td>\n",
       "      <td>Phantom</td>\n",
       "    </tr>\n",
       "  </tbody>\n",
       "</table>\n",
       "</div>"
      ],
      "text/plain": [
       "   type  year                 title      trim     price  mileage         make  \\\n",
       "0  used  2017       Hyundai Accent        SE    13879.0      168      Hyundai   \n",
       "1  used  2015      Chevrolet Sonic       LTZ     8990.0    49000    Chevrolet   \n",
       "2  used  2001   Mitsubishi Montero   Limited     7995.0   130752   Mitsubishi   \n",
       "3  used  2012             Scion xB      Base    11995.0    51947        Scion   \n",
       "4  used  2007  Rolls-Royce Phantom      Base   139999.0    14796  Rolls-Royce   \n",
       "\n",
       "      model  \n",
       "0   Accent   \n",
       "1    Sonic   \n",
       "2  Montero   \n",
       "3       xB   \n",
       "4  Phantom   "
      ]
     },
     "execution_count": 9,
     "metadata": {},
     "output_type": "execute_result"
    }
   ],
   "source": [
    "df.head()"
   ]
  },
  {
   "cell_type": "code",
   "execution_count": 11,
   "metadata": {},
   "outputs": [
    {
     "data": {
      "text/html": [
       "<div>\n",
       "<style>\n",
       "    .dataframe thead tr:only-child th {\n",
       "        text-align: right;\n",
       "    }\n",
       "\n",
       "    .dataframe thead th {\n",
       "        text-align: left;\n",
       "    }\n",
       "\n",
       "    .dataframe tbody tr th {\n",
       "        vertical-align: top;\n",
       "    }\n",
       "</style>\n",
       "<table border=\"1\" class=\"dataframe\">\n",
       "  <thead>\n",
       "    <tr style=\"text-align: right;\">\n",
       "      <th></th>\n",
       "      <th>type</th>\n",
       "      <th>year</th>\n",
       "      <th>trim</th>\n",
       "      <th>price</th>\n",
       "      <th>mileage</th>\n",
       "      <th>make</th>\n",
       "      <th>model</th>\n",
       "    </tr>\n",
       "  </thead>\n",
       "  <tbody>\n",
       "    <tr>\n",
       "      <th>0</th>\n",
       "      <td>used</td>\n",
       "      <td>2017</td>\n",
       "      <td>SE</td>\n",
       "      <td>13879.0</td>\n",
       "      <td>168</td>\n",
       "      <td>Hyundai</td>\n",
       "      <td>Accent</td>\n",
       "    </tr>\n",
       "    <tr>\n",
       "      <th>1</th>\n",
       "      <td>used</td>\n",
       "      <td>2015</td>\n",
       "      <td>LTZ</td>\n",
       "      <td>8990.0</td>\n",
       "      <td>49000</td>\n",
       "      <td>Chevrolet</td>\n",
       "      <td>Sonic</td>\n",
       "    </tr>\n",
       "    <tr>\n",
       "      <th>2</th>\n",
       "      <td>used</td>\n",
       "      <td>2001</td>\n",
       "      <td>Limited</td>\n",
       "      <td>7995.0</td>\n",
       "      <td>130752</td>\n",
       "      <td>Mitsubishi</td>\n",
       "      <td>Montero</td>\n",
       "    </tr>\n",
       "    <tr>\n",
       "      <th>3</th>\n",
       "      <td>used</td>\n",
       "      <td>2012</td>\n",
       "      <td>Base</td>\n",
       "      <td>11995.0</td>\n",
       "      <td>51947</td>\n",
       "      <td>Scion</td>\n",
       "      <td>xB</td>\n",
       "    </tr>\n",
       "    <tr>\n",
       "      <th>4</th>\n",
       "      <td>used</td>\n",
       "      <td>2007</td>\n",
       "      <td>Base</td>\n",
       "      <td>139999.0</td>\n",
       "      <td>14796</td>\n",
       "      <td>Rolls-Royce</td>\n",
       "      <td>Phantom</td>\n",
       "    </tr>\n",
       "  </tbody>\n",
       "</table>\n",
       "</div>"
      ],
      "text/plain": [
       "   type  year      trim     price  mileage         make     model\n",
       "0  used  2017       SE    13879.0      168      Hyundai   Accent \n",
       "1  used  2015      LTZ     8990.0    49000    Chevrolet    Sonic \n",
       "2  used  2001  Limited     7995.0   130752   Mitsubishi  Montero \n",
       "3  used  2012     Base    11995.0    51947        Scion       xB \n",
       "4  used  2007     Base   139999.0    14796  Rolls-Royce  Phantom "
      ]
     },
     "execution_count": 11,
     "metadata": {},
     "output_type": "execute_result"
    }
   ],
   "source": [
    "df = df.drop(['title'], axis=1)\n",
    "df.head()"
   ]
  },
  {
   "cell_type": "code",
   "execution_count": 12,
   "metadata": {
    "collapsed": true
   },
   "outputs": [],
   "source": [
    "df.to_csv(\"carRecordsCleaned.csv\")"
   ]
  },
  {
   "cell_type": "code",
   "execution_count": 17,
   "metadata": {},
   "outputs": [
    {
     "data": {
      "text/plain": [
       "488"
      ]
     },
     "execution_count": 17,
     "metadata": {},
     "output_type": "execute_result"
    }
   ],
   "source": [
    "df['model'].nunique()"
   ]
  },
  {
   "cell_type": "code",
   "execution_count": 18,
   "metadata": {},
   "outputs": [
    {
     "data": {
      "text/plain": [
       "28"
      ]
     },
     "execution_count": 18,
     "metadata": {},
     "output_type": "execute_result"
    }
   ],
   "source": [
    "df['year'].nunique()"
   ]
  },
  {
   "cell_type": "code",
   "execution_count": null,
   "metadata": {
    "collapsed": true
   },
   "outputs": [],
   "source": []
  }
 ],
 "metadata": {
  "kernelspec": {
   "display_name": "Python 3",
   "language": "python",
   "name": "python3"
  },
  "language_info": {
   "codemirror_mode": {
    "name": "ipython",
    "version": 3
   },
   "file_extension": ".py",
   "mimetype": "text/x-python",
   "name": "python",
   "nbconvert_exporter": "python",
   "pygments_lexer": "ipython3",
   "version": "3.6.3"
  }
 },
 "nbformat": 4,
 "nbformat_minor": 2
}
