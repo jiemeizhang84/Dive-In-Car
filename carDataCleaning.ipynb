{
 "cells": [
  {
   "cell_type": "code",
   "execution_count": 1,
   "metadata": {
    "collapsed": true
   },
   "outputs": [],
   "source": [
    "import pandas as pd\n",
    "import numpy as np"
   ]
  },
  {
   "cell_type": "code",
   "execution_count": 4,
   "metadata": {
    "collapsed": true
   },
   "outputs": [],
   "source": [
    "df = pd.read_csv(\"carRecords.csv\",index_col=0)"
   ]
  },
  {
   "cell_type": "code",
   "execution_count": 5,
   "metadata": {},
   "outputs": [
    {
     "data": {
      "text/html": [
       "<div>\n",
       "<style>\n",
       "    .dataframe thead tr:only-child th {\n",
       "        text-align: right;\n",
       "    }\n",
       "\n",
       "    .dataframe thead th {\n",
       "        text-align: left;\n",
       "    }\n",
       "\n",
       "    .dataframe tbody tr th {\n",
       "        vertical-align: top;\n",
       "    }\n",
       "</style>\n",
       "<table border=\"1\" class=\"dataframe\">\n",
       "  <thead>\n",
       "    <tr style=\"text-align: right;\">\n",
       "      <th></th>\n",
       "      <th>type</th>\n",
       "      <th>year</th>\n",
       "      <th>title</th>\n",
       "      <th>trim</th>\n",
       "      <th>price</th>\n",
       "      <th>mileage</th>\n",
       "    </tr>\n",
       "  </thead>\n",
       "  <tbody>\n",
       "    <tr>\n",
       "      <th>0</th>\n",
       "      <td>used</td>\n",
       "      <td>2017</td>\n",
       "      <td>Hyundai Accent</td>\n",
       "      <td>SE</td>\n",
       "      <td>13879.0</td>\n",
       "      <td>168</td>\n",
       "    </tr>\n",
       "    <tr>\n",
       "      <th>1</th>\n",
       "      <td>used</td>\n",
       "      <td>2015</td>\n",
       "      <td>Chevrolet Sonic</td>\n",
       "      <td>LTZ</td>\n",
       "      <td>8990.0</td>\n",
       "      <td>49000</td>\n",
       "    </tr>\n",
       "    <tr>\n",
       "      <th>2</th>\n",
       "      <td>used</td>\n",
       "      <td>2001</td>\n",
       "      <td>Mitsubishi Montero</td>\n",
       "      <td>Limited</td>\n",
       "      <td>7995.0</td>\n",
       "      <td>130752</td>\n",
       "    </tr>\n",
       "    <tr>\n",
       "      <th>3</th>\n",
       "      <td>used</td>\n",
       "      <td>2012</td>\n",
       "      <td>Scion xB</td>\n",
       "      <td>Base</td>\n",
       "      <td>11995.0</td>\n",
       "      <td>51947</td>\n",
       "    </tr>\n",
       "    <tr>\n",
       "      <th>4</th>\n",
       "      <td>used</td>\n",
       "      <td>2007</td>\n",
       "      <td>Rolls-Royce Phantom</td>\n",
       "      <td>Base</td>\n",
       "      <td>139999.0</td>\n",
       "      <td>14796</td>\n",
       "    </tr>\n",
       "  </tbody>\n",
       "</table>\n",
       "</div>"
      ],
      "text/plain": [
       "   type  year                 title      trim     price  mileage\n",
       "0  used  2017       Hyundai Accent        SE    13879.0      168\n",
       "1  used  2015      Chevrolet Sonic       LTZ     8990.0    49000\n",
       "2  used  2001   Mitsubishi Montero   Limited     7995.0   130752\n",
       "3  used  2012             Scion xB      Base    11995.0    51947\n",
       "4  used  2007  Rolls-Royce Phantom      Base   139999.0    14796"
      ]
     },
     "execution_count": 5,
     "metadata": {},
     "output_type": "execute_result"
    }
   ],
   "source": [
    "df.head()"
   ]
  },
  {
   "cell_type": "code",
   "execution_count": 6,
   "metadata": {
    "collapsed": true
   },
   "outputs": [],
   "source": [
    "df['make'], df['model'] = df['title'].str.split(' ', 1).str"
   ]
  },
  {
   "cell_type": "code",
   "execution_count": 9,
   "metadata": {},
   "outputs": [
    {
     "data": {
      "text/html": [
       "<div>\n",
       "<style>\n",
       "    .dataframe thead tr:only-child th {\n",
       "        text-align: right;\n",
       "    }\n",
       "\n",
       "    .dataframe thead th {\n",
       "        text-align: left;\n",
       "    }\n",
       "\n",
       "    .dataframe tbody tr th {\n",
       "        vertical-align: top;\n",
       "    }\n",
       "</style>\n",
       "<table border=\"1\" class=\"dataframe\">\n",
       "  <thead>\n",
       "    <tr style=\"text-align: right;\">\n",
       "      <th></th>\n",
       "      <th>type</th>\n",
       "      <th>year</th>\n",
       "      <th>title</th>\n",
       "      <th>trim</th>\n",
       "      <th>price</th>\n",
       "      <th>mileage</th>\n",
       "      <th>make</th>\n",
       "      <th>model</th>\n",
       "    </tr>\n",
       "  </thead>\n",
       "  <tbody>\n",
       "    <tr>\n",
       "      <th>0</th>\n",
       "      <td>used</td>\n",
       "      <td>2017</td>\n",
       "      <td>Hyundai Accent</td>\n",
       "      <td>SE</td>\n",
       "      <td>13879.0</td>\n",
       "      <td>168</td>\n",
       "      <td>Hyundai</td>\n",
       "      <td>Accent</td>\n",
       "    </tr>\n",
       "    <tr>\n",
       "      <th>1</th>\n",
       "      <td>used</td>\n",
       "      <td>2015</td>\n",
       "      <td>Chevrolet Sonic</td>\n",
       "      <td>LTZ</td>\n",
       "      <td>8990.0</td>\n",
       "      <td>49000</td>\n",
       "      <td>Chevrolet</td>\n",
       "      <td>Sonic</td>\n",
       "    </tr>\n",
       "    <tr>\n",
       "      <th>2</th>\n",
       "      <td>used</td>\n",
       "      <td>2001</td>\n",
       "      <td>Mitsubishi Montero</td>\n",
       "      <td>Limited</td>\n",
       "      <td>7995.0</td>\n",
       "      <td>130752</td>\n",
       "      <td>Mitsubishi</td>\n",
       "      <td>Montero</td>\n",
       "    </tr>\n",
       "    <tr>\n",
       "      <th>3</th>\n",
       "      <td>used</td>\n",
       "      <td>2012</td>\n",
       "      <td>Scion xB</td>\n",
       "      <td>Base</td>\n",
       "      <td>11995.0</td>\n",
       "      <td>51947</td>\n",
       "      <td>Scion</td>\n",
       "      <td>xB</td>\n",
       "    </tr>\n",
       "    <tr>\n",
       "      <th>4</th>\n",
       "      <td>used</td>\n",
       "      <td>2007</td>\n",
       "      <td>Rolls-Royce Phantom</td>\n",
       "      <td>Base</td>\n",
       "      <td>139999.0</td>\n",
       "      <td>14796</td>\n",
       "      <td>Rolls-Royce</td>\n",
       "      <td>Phantom</td>\n",
       "    </tr>\n",
       "  </tbody>\n",
       "</table>\n",
       "</div>"
      ],
      "text/plain": [
       "   type  year                 title      trim     price  mileage         make  \\\n",
       "0  used  2017       Hyundai Accent        SE    13879.0      168      Hyundai   \n",
       "1  used  2015      Chevrolet Sonic       LTZ     8990.0    49000    Chevrolet   \n",
       "2  used  2001   Mitsubishi Montero   Limited     7995.0   130752   Mitsubishi   \n",
       "3  used  2012             Scion xB      Base    11995.0    51947        Scion   \n",
       "4  used  2007  Rolls-Royce Phantom      Base   139999.0    14796  Rolls-Royce   \n",
       "\n",
       "      model  \n",
       "0   Accent   \n",
       "1    Sonic   \n",
       "2  Montero   \n",
       "3       xB   \n",
       "4  Phantom   "
      ]
     },
     "execution_count": 9,
     "metadata": {},
     "output_type": "execute_result"
    }
   ],
   "source": [
    "df.head()"
   ]
  },
  {
   "cell_type": "code",
   "execution_count": 11,
   "metadata": {},
   "outputs": [
    {
     "data": {
      "text/html": [
       "<div>\n",
       "<style>\n",
       "    .dataframe thead tr:only-child th {\n",
       "        text-align: right;\n",
       "    }\n",
       "\n",
       "    .dataframe thead th {\n",
       "        text-align: left;\n",
       "    }\n",
       "\n",
       "    .dataframe tbody tr th {\n",
       "        vertical-align: top;\n",
       "    }\n",
       "</style>\n",
       "<table border=\"1\" class=\"dataframe\">\n",
       "  <thead>\n",
       "    <tr style=\"text-align: right;\">\n",
       "      <th></th>\n",
       "      <th>type</th>\n",
       "      <th>year</th>\n",
       "      <th>trim</th>\n",
       "      <th>price</th>\n",
       "      <th>mileage</th>\n",
       "      <th>make</th>\n",
       "      <th>model</th>\n",
       "    </tr>\n",
       "  </thead>\n",
       "  <tbody>\n",
       "    <tr>\n",
       "      <th>0</th>\n",
       "      <td>used</td>\n",
       "      <td>2017</td>\n",
       "      <td>SE</td>\n",
       "      <td>13879.0</td>\n",
       "      <td>168</td>\n",
       "      <td>Hyundai</td>\n",
       "      <td>Accent</td>\n",
       "    </tr>\n",
       "    <tr>\n",
       "      <th>1</th>\n",
       "      <td>used</td>\n",
       "      <td>2015</td>\n",
       "      <td>LTZ</td>\n",
       "      <td>8990.0</td>\n",
       "      <td>49000</td>\n",
       "      <td>Chevrolet</td>\n",
       "      <td>Sonic</td>\n",
       "    </tr>\n",
       "    <tr>\n",
       "      <th>2</th>\n",
       "      <td>used</td>\n",
       "      <td>2001</td>\n",
       "      <td>Limited</td>\n",
       "      <td>7995.0</td>\n",
       "      <td>130752</td>\n",
       "      <td>Mitsubishi</td>\n",
       "      <td>Montero</td>\n",
       "    </tr>\n",
       "    <tr>\n",
       "      <th>3</th>\n",
       "      <td>used</td>\n",
       "      <td>2012</td>\n",
       "      <td>Base</td>\n",
       "      <td>11995.0</td>\n",
       "      <td>51947</td>\n",
       "      <td>Scion</td>\n",
       "      <td>xB</td>\n",
       "    </tr>\n",
       "    <tr>\n",
       "      <th>4</th>\n",
       "      <td>used</td>\n",
       "      <td>2007</td>\n",
       "      <td>Base</td>\n",
       "      <td>139999.0</td>\n",
       "      <td>14796</td>\n",
       "      <td>Rolls-Royce</td>\n",
       "      <td>Phantom</td>\n",
       "    </tr>\n",
       "  </tbody>\n",
       "</table>\n",
       "</div>"
      ],
      "text/plain": [
       "   type  year      trim     price  mileage         make     model\n",
       "0  used  2017       SE    13879.0      168      Hyundai   Accent \n",
       "1  used  2015      LTZ     8990.0    49000    Chevrolet    Sonic \n",
       "2  used  2001  Limited     7995.0   130752   Mitsubishi  Montero \n",
       "3  used  2012     Base    11995.0    51947        Scion       xB \n",
       "4  used  2007     Base   139999.0    14796  Rolls-Royce  Phantom "
      ]
     },
     "execution_count": 11,
     "metadata": {},
     "output_type": "execute_result"
    }
   ],
   "source": [
    "df = df.drop(['title'], axis=1)\n",
    "df.head()"
   ]
  },
  {
   "cell_type": "code",
   "execution_count": 12,
   "metadata": {
    "collapsed": true
   },
   "outputs": [],
   "source": []
  },
  {
   "cell_type": "code",
   "execution_count": 17,
   "metadata": {},
   "outputs": [
    {
     "data": {
      "text/plain": [
       "488"
      ]
     },
     "execution_count": 17,
     "metadata": {},
     "output_type": "execute_result"
    }
   ],
   "source": [
    "df['model'].nunique()"
   ]
  },
  {
   "cell_type": "code",
   "execution_count": 18,
   "metadata": {},
   "outputs": [
    {
     "data": {
      "text/plain": [
       "28"
      ]
     },
     "execution_count": 18,
     "metadata": {},
     "output_type": "execute_result"
    }
   ],
   "source": [
    "df['year'].nunique()"
   ]
  },
  {
   "cell_type": "code",
   "execution_count": 19,
   "metadata": {},
   "outputs": [
    {
     "data": {
      "text/plain": [
       "1875.0"
      ]
     },
     "execution_count": 19,
     "metadata": {},
     "output_type": "execute_result"
    }
   ],
   "source": [
    "df['price'].min()"
   ]
  },
  {
   "cell_type": "code",
   "execution_count": 20,
   "metadata": {},
   "outputs": [
    {
     "data": {
      "text/plain": [
       "389999.0"
      ]
     },
     "execution_count": 20,
     "metadata": {},
     "output_type": "execute_result"
    }
   ],
   "source": [
    "df['price'].max()"
   ]
  },
  {
   "cell_type": "code",
   "execution_count": 24,
   "metadata": {},
   "outputs": [
    {
     "data": {
      "text/plain": [
       "31655.446403448786"
      ]
     },
     "execution_count": 24,
     "metadata": {},
     "output_type": "execute_result"
    }
   ],
   "source": [
    "df['price'].mean()"
   ]
  },
  {
   "cell_type": "code",
   "execution_count": 21,
   "metadata": {},
   "outputs": [
    {
     "data": {
      "text/plain": [
       "0"
      ]
     },
     "execution_count": 21,
     "metadata": {},
     "output_type": "execute_result"
    }
   ],
   "source": [
    "df['mileage'].min()"
   ]
  },
  {
   "cell_type": "code",
   "execution_count": 22,
   "metadata": {},
   "outputs": [
    {
     "data": {
      "text/plain": [
       "343848"
      ]
     },
     "execution_count": 22,
     "metadata": {},
     "output_type": "execute_result"
    }
   ],
   "source": [
    "df['mileage'].max()"
   ]
  },
  {
   "cell_type": "code",
   "execution_count": 25,
   "metadata": {},
   "outputs": [
    {
     "data": {
      "text/plain": [
       "4911.805262375502"
      ]
     },
     "execution_count": 25,
     "metadata": {},
     "output_type": "execute_result"
    }
   ],
   "source": [
    "df['mileage'].mean()"
   ]
  },
  {
   "cell_type": "code",
   "execution_count": 38,
   "metadata": {
    "collapsed": true
   },
   "outputs": [],
   "source": [
    "bin_price=[0,5000,10000,20000,30000,40000,50000,70000,100000,320000]\n",
    "bin_label_price=[\"<5k\",\"5k-10k\",\"10k-20k\",\"20k-30k\",\"30k-40k\",\"40k-50k\",\"50k-70k\",\"70k-100k\",\">100k\"]"
   ]
  },
  {
   "cell_type": "code",
   "execution_count": 39,
   "metadata": {},
   "outputs": [],
   "source": [
    "df['price_bin']=pd.cut(df['price'],bins=bin_price,labels=bin_label_price)"
   ]
  },
  {
   "cell_type": "code",
   "execution_count": 40,
   "metadata": {},
   "outputs": [
    {
     "data": {
      "text/html": [
       "<div>\n",
       "<style>\n",
       "    .dataframe thead tr:only-child th {\n",
       "        text-align: right;\n",
       "    }\n",
       "\n",
       "    .dataframe thead th {\n",
       "        text-align: left;\n",
       "    }\n",
       "\n",
       "    .dataframe tbody tr th {\n",
       "        vertical-align: top;\n",
       "    }\n",
       "</style>\n",
       "<table border=\"1\" class=\"dataframe\">\n",
       "  <thead>\n",
       "    <tr style=\"text-align: right;\">\n",
       "      <th></th>\n",
       "      <th>type</th>\n",
       "      <th>year</th>\n",
       "      <th>trim</th>\n",
       "      <th>price</th>\n",
       "      <th>mileage</th>\n",
       "      <th>make</th>\n",
       "      <th>model</th>\n",
       "      <th>price_bin</th>\n",
       "    </tr>\n",
       "  </thead>\n",
       "  <tbody>\n",
       "    <tr>\n",
       "      <th>0</th>\n",
       "      <td>used</td>\n",
       "      <td>2017</td>\n",
       "      <td>SE</td>\n",
       "      <td>13879.0</td>\n",
       "      <td>168</td>\n",
       "      <td>Hyundai</td>\n",
       "      <td>Accent</td>\n",
       "      <td>10k-20k</td>\n",
       "    </tr>\n",
       "    <tr>\n",
       "      <th>1</th>\n",
       "      <td>used</td>\n",
       "      <td>2015</td>\n",
       "      <td>LTZ</td>\n",
       "      <td>8990.0</td>\n",
       "      <td>49000</td>\n",
       "      <td>Chevrolet</td>\n",
       "      <td>Sonic</td>\n",
       "      <td>5k-10k</td>\n",
       "    </tr>\n",
       "    <tr>\n",
       "      <th>2</th>\n",
       "      <td>used</td>\n",
       "      <td>2001</td>\n",
       "      <td>Limited</td>\n",
       "      <td>7995.0</td>\n",
       "      <td>130752</td>\n",
       "      <td>Mitsubishi</td>\n",
       "      <td>Montero</td>\n",
       "      <td>5k-10k</td>\n",
       "    </tr>\n",
       "    <tr>\n",
       "      <th>3</th>\n",
       "      <td>used</td>\n",
       "      <td>2012</td>\n",
       "      <td>Base</td>\n",
       "      <td>11995.0</td>\n",
       "      <td>51947</td>\n",
       "      <td>Scion</td>\n",
       "      <td>xB</td>\n",
       "      <td>10k-20k</td>\n",
       "    </tr>\n",
       "    <tr>\n",
       "      <th>4</th>\n",
       "      <td>used</td>\n",
       "      <td>2007</td>\n",
       "      <td>Base</td>\n",
       "      <td>139999.0</td>\n",
       "      <td>14796</td>\n",
       "      <td>Rolls-Royce</td>\n",
       "      <td>Phantom</td>\n",
       "      <td>&gt;100k</td>\n",
       "    </tr>\n",
       "  </tbody>\n",
       "</table>\n",
       "</div>"
      ],
      "text/plain": [
       "   type  year      trim     price  mileage         make     model price_bin\n",
       "0  used  2017       SE    13879.0      168      Hyundai   Accent    10k-20k\n",
       "1  used  2015      LTZ     8990.0    49000    Chevrolet    Sonic     5k-10k\n",
       "2  used  2001  Limited     7995.0   130752   Mitsubishi  Montero     5k-10k\n",
       "3  used  2012     Base    11995.0    51947        Scion       xB    10k-20k\n",
       "4  used  2007     Base   139999.0    14796  Rolls-Royce  Phantom      >100k"
      ]
     },
     "execution_count": 40,
     "metadata": {},
     "output_type": "execute_result"
    }
   ],
   "source": [
    "df.head()"
   ]
  },
  {
   "cell_type": "code",
   "execution_count": 41,
   "metadata": {},
   "outputs": [
    {
     "data": {
      "text/plain": [
       "<5k           113\n",
       "5k-10k        536\n",
       "10k-20k      3205\n",
       "20k-30k     14957\n",
       "30k-40k      8441\n",
       "40k-50k      4037\n",
       "50k-70k      1816\n",
       "70k-100k      372\n",
       ">100k         155\n",
       "Name: price_bin, dtype: int64"
      ]
     },
     "execution_count": 41,
     "metadata": {},
     "output_type": "execute_result"
    }
   ],
   "source": [
    "pd.value_counts(df[\"price_bin\"], sort=False)"
   ]
  },
  {
   "cell_type": "code",
   "execution_count": 50,
   "metadata": {
    "collapsed": true
   },
   "outputs": [],
   "source": [
    "bin_mileage = [0,15000,30000,45000,60000,75000,90000, 350000]\n",
    "bin_label_mileage = [\"<5k\",\"15k-30k\",\"30k-45k\",\"45k-60k\",\"60k-75k\",\"75k-90k\",\">90k\"]"
   ]
  },
  {
   "cell_type": "code",
   "execution_count": 51,
   "metadata": {
    "collapsed": true
   },
   "outputs": [],
   "source": [
    "df['mileage_bin']=pd.cut(df['mileage'],bins=bin_mileage,labels=bin_label_mileage,include_lowest=True)"
   ]
  },
  {
   "cell_type": "code",
   "execution_count": 52,
   "metadata": {},
   "outputs": [
    {
     "data": {
      "text/html": [
       "<div>\n",
       "<style>\n",
       "    .dataframe thead tr:only-child th {\n",
       "        text-align: right;\n",
       "    }\n",
       "\n",
       "    .dataframe thead th {\n",
       "        text-align: left;\n",
       "    }\n",
       "\n",
       "    .dataframe tbody tr th {\n",
       "        vertical-align: top;\n",
       "    }\n",
       "</style>\n",
       "<table border=\"1\" class=\"dataframe\">\n",
       "  <thead>\n",
       "    <tr style=\"text-align: right;\">\n",
       "      <th></th>\n",
       "      <th>type</th>\n",
       "      <th>year</th>\n",
       "      <th>trim</th>\n",
       "      <th>price</th>\n",
       "      <th>mileage</th>\n",
       "      <th>make</th>\n",
       "      <th>model</th>\n",
       "      <th>price_bin</th>\n",
       "      <th>mileage_bin</th>\n",
       "    </tr>\n",
       "  </thead>\n",
       "  <tbody>\n",
       "    <tr>\n",
       "      <th>0</th>\n",
       "      <td>used</td>\n",
       "      <td>2017</td>\n",
       "      <td>SE</td>\n",
       "      <td>13879.0</td>\n",
       "      <td>168</td>\n",
       "      <td>Hyundai</td>\n",
       "      <td>Accent</td>\n",
       "      <td>10k-20k</td>\n",
       "      <td>&lt;5k</td>\n",
       "    </tr>\n",
       "    <tr>\n",
       "      <th>1</th>\n",
       "      <td>used</td>\n",
       "      <td>2015</td>\n",
       "      <td>LTZ</td>\n",
       "      <td>8990.0</td>\n",
       "      <td>49000</td>\n",
       "      <td>Chevrolet</td>\n",
       "      <td>Sonic</td>\n",
       "      <td>5k-10k</td>\n",
       "      <td>45k-60k</td>\n",
       "    </tr>\n",
       "    <tr>\n",
       "      <th>2</th>\n",
       "      <td>used</td>\n",
       "      <td>2001</td>\n",
       "      <td>Limited</td>\n",
       "      <td>7995.0</td>\n",
       "      <td>130752</td>\n",
       "      <td>Mitsubishi</td>\n",
       "      <td>Montero</td>\n",
       "      <td>5k-10k</td>\n",
       "      <td>&gt;90k</td>\n",
       "    </tr>\n",
       "    <tr>\n",
       "      <th>3</th>\n",
       "      <td>used</td>\n",
       "      <td>2012</td>\n",
       "      <td>Base</td>\n",
       "      <td>11995.0</td>\n",
       "      <td>51947</td>\n",
       "      <td>Scion</td>\n",
       "      <td>xB</td>\n",
       "      <td>10k-20k</td>\n",
       "      <td>45k-60k</td>\n",
       "    </tr>\n",
       "    <tr>\n",
       "      <th>4</th>\n",
       "      <td>used</td>\n",
       "      <td>2007</td>\n",
       "      <td>Base</td>\n",
       "      <td>139999.0</td>\n",
       "      <td>14796</td>\n",
       "      <td>Rolls-Royce</td>\n",
       "      <td>Phantom</td>\n",
       "      <td>&gt;100k</td>\n",
       "      <td>&lt;5k</td>\n",
       "    </tr>\n",
       "  </tbody>\n",
       "</table>\n",
       "</div>"
      ],
      "text/plain": [
       "   type  year      trim     price  mileage         make     model price_bin  \\\n",
       "0  used  2017       SE    13879.0      168      Hyundai   Accent    10k-20k   \n",
       "1  used  2015      LTZ     8990.0    49000    Chevrolet    Sonic     5k-10k   \n",
       "2  used  2001  Limited     7995.0   130752   Mitsubishi  Montero     5k-10k   \n",
       "3  used  2012     Base    11995.0    51947        Scion       xB    10k-20k   \n",
       "4  used  2007     Base   139999.0    14796  Rolls-Royce  Phantom      >100k   \n",
       "\n",
       "  mileage_bin  \n",
       "0         <5k  \n",
       "1     45k-60k  \n",
       "2        >90k  \n",
       "3     45k-60k  \n",
       "4         <5k  "
      ]
     },
     "execution_count": 52,
     "metadata": {},
     "output_type": "execute_result"
    }
   ],
   "source": [
    "df.head()"
   ]
  },
  {
   "cell_type": "code",
   "execution_count": 53,
   "metadata": {},
   "outputs": [
    {
     "data": {
      "text/plain": [
       "<5k        31001\n",
       "15k-30k      507\n",
       "30k-45k      685\n",
       "45k-60k      359\n",
       "60k-75k      292\n",
       "75k-90k      245\n",
       ">90k         546\n",
       "Name: mileage_bin, dtype: int64"
      ]
     },
     "execution_count": 53,
     "metadata": {},
     "output_type": "execute_result"
    }
   ],
   "source": [
    "pd.value_counts(df[\"mileage_bin\"], sort=False)"
   ]
  },
  {
   "cell_type": "code",
   "execution_count": 54,
   "metadata": {
    "collapsed": true
   },
   "outputs": [],
   "source": [
    "df.to_csv(\"carRecordsCleaned.csv\")"
   ]
  },
  {
   "cell_type": "code",
   "execution_count": null,
   "metadata": {
    "collapsed": true
   },
   "outputs": [],
   "source": []
  }
 ],
 "metadata": {
  "kernelspec": {
   "display_name": "Python 3",
   "language": "python",
   "name": "python3"
  },
  "language_info": {
   "codemirror_mode": {
    "name": "ipython",
    "version": 3
   },
   "file_extension": ".py",
   "mimetype": "text/x-python",
   "name": "python",
   "nbconvert_exporter": "python",
   "pygments_lexer": "ipython3",
   "version": "3.6.3"
  }
 },
 "nbformat": 4,
 "nbformat_minor": 2
}
