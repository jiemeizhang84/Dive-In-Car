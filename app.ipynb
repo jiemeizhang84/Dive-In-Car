{
 "cells": [
  {
   "cell_type": "code",
   "execution_count": 1,
   "metadata": {},
   "outputs": [],
   "source": [
    "# import necessary libraries\n",
    "import numpy as np\n",
    "import pandas as pd\n",
    "import pymongo\n",
    "\n",
    "from flask import (\n",
    "    Flask,\n",
    "    render_template)\n",
    "    # jsonify,\n",
    "    # request,\n",
    "    # redirect)\n",
    "\n",
    "#################################################\n",
    "# Flask Setup\n",
    "#################################################\n",
    "app = Flask(__name__)\n",
    "\n",
    "#################################################\n",
    "# Database Setup\n",
    "#################################################\n",
    "\n",
    "conn = 'mongodb://localhost:27017'\n",
    "\n",
    "client = pymongo.MongoClient(conn)\n",
    "\n",
    "# Connect to a database. Will create one if not already available.\n",
    "db = client.car_db"
   ]
  },
  {
   "cell_type": "code",
   "execution_count": 6,
   "metadata": {},
   "outputs": [
    {
     "name": "stdout",
     "output_type": "stream",
     "text": [
      "{'': 0,\n",
      " '_id': ObjectId('5b60b1fd88d2336166b751ae'),\n",
      " 'make': 'Hyundai',\n",
      " 'mileage': 168,\n",
      " 'mileage_bin': '<5k',\n",
      " 'model': 'Accent',\n",
      " 'price': 13879.0,\n",
      " 'price_bin': '10k-20k',\n",
      " 'trim': 'SE',\n",
      " 'type': 'used',\n",
      " 'year': 2017}\n"
     ]
    }
   ],
   "source": [
    "import pprint\n",
    "pprint.pprint(db.cars.find_one())"
   ]
  },
  {
   "cell_type": "code",
   "execution_count": 7,
   "metadata": {},
   "outputs": [
    {
     "name": "stdout",
     "output_type": "stream",
     "text": [
      "['Hyundai', 'Scion', 'Mitsubishi', 'Rolls-Royce', 'Lamborghini', 'Dodge', 'Volkswagen', 'Chevrolet', 'Ford', 'Toyota', 'Saturn', 'Nissan', 'Kia', 'Buick', 'FIAT', 'Alfa', 'Genesis', 'Honda', 'INFINITI', 'Subaru', 'Mazda', 'smart', 'Maserati', 'Jaguar', 'Audi', 'Porsche', 'Volvo', 'Mercedes-Benz', 'Jeep', 'Chrysler', 'Ram', 'Cadillac', 'GMC', 'Lexus', 'BMW', 'MINI', 'Acura', 'Bentley', 'Land', 'Pontiac', 'Ferrari', 'Tesla', 'Isuzu', 'Oldsmobile', 'HUMMER', 'Lincoln', 'Aston']\n"
     ]
    }
   ],
   "source": [
    "makes = db.cars.distinct(\"make\")\n",
    "print(makes)"
   ]
  },
  {
   "cell_type": "code",
   "execution_count": 8,
   "metadata": {},
   "outputs": [
    {
     "name": "stdout",
     "output_type": "stream",
     "text": [
      "['Q7', 'A6', 'A4', 'S5', 'allroad', 'A3 Sportback e-tron', 'Q5', 'A3', 'TT', 'A5', 'Q3', 'A8', 'RS 5', 'A7', 'S6', 'RS 3', 'R8', 'S3', 'SQ5', 'S4']\n"
     ]
    }
   ],
   "source": [
    "models = db.cars.find({\"make\": \"Audi\"}).distinct(\"model\")\n",
    "print(models)"
   ]
  },
  {
   "cell_type": "code",
   "execution_count": 9,
   "metadata": {},
   "outputs": [
    {
     "name": "stdout",
     "output_type": "stream",
     "text": [
      "['10k-20k', '5k-10k', '>100k', '20k-30k', '<5k', '40k-50k', '30k-40k', '70k-100k', '50k-70k', '']\n"
     ]
    }
   ],
   "source": [
    "price_bin = db.cars.distinct(\"price_bin\")\n",
    "print(price_bin)"
   ]
  },
  {
   "cell_type": "code",
   "execution_count": 10,
   "metadata": {},
   "outputs": [
    {
     "name": "stdout",
     "output_type": "stream",
     "text": [
      "['<5k', '45k-60k', '>90k', '60k-75k', '30k-45k', '15k-30k', '75k-90k']\n"
     ]
    }
   ],
   "source": [
    "mileage_bin = db.cars.distinct(\"mileage_bin\")\n",
    "print(mileage_bin)"
   ]
  },
  {
   "cell_type": "raw",
   "metadata": {},
   "source": []
  },
  {
   "cell_type": "code",
   "execution_count": 33,
   "metadata": {},
   "outputs": [
    {
     "name": "stdout",
     "output_type": "stream",
     "text": [
      "[2017, 2012, 2001, 2007, 2015, 2009, 2014, 2016, 2018, 2002, 2003, 2008, 2011, 2010, 2006, 2004, 2013, 2005, 1992, 2019, 1995, 1999, 1998, 1991, 1997, 2000, 1994, 1993]\n"
     ]
    }
   ],
   "source": [
    "years = db.cars.distinct(\"year\")\n",
    "print(years)"
   ]
  },
  {
   "cell_type": "code",
   "execution_count": 34,
   "metadata": {},
   "outputs": [],
   "source": [
    "car_by_criteria = db.cars.find({\"price_bin\": \"10k-20k\",\"mileage_bin\":\"15k-30k\",\"year\":2013})"
   ]
  },
  {
   "cell_type": "code",
   "execution_count": 35,
   "metadata": {},
   "outputs": [
    {
     "name": "stdout",
     "output_type": "stream",
     "text": [
      "{'': 3727,\n",
      " '_id': ObjectId('5b60b1fd88d2336166b76040'),\n",
      " 'make': 'FIAT',\n",
      " 'mileage': 20304,\n",
      " 'mileage_bin': '15k-30k',\n",
      " 'model': 500,\n",
      " 'price': 10998.0,\n",
      " 'price_bin': '10k-20k',\n",
      " 'trim': 'Sport',\n",
      " 'type': 'used',\n",
      " 'year': 2013}\n"
     ]
    }
   ],
   "source": [
    "pprint.pprint(car_by_criteria[1])"
   ]
  },
  {
   "cell_type": "code",
   "execution_count": null,
   "metadata": {},
   "outputs": [],
   "source": []
  }
 ],
 "metadata": {
  "kernelspec": {
   "display_name": "Python 3",
   "language": "python",
   "name": "python3"
  },
  "language_info": {
   "codemirror_mode": {
    "name": "ipython",
    "version": 3
   },
   "file_extension": ".py",
   "mimetype": "text/x-python",
   "name": "python",
   "nbconvert_exporter": "python",
   "pygments_lexer": "ipython3",
   "version": "3.6.4"
  }
 },
 "nbformat": 4,
 "nbformat_minor": 2
}
